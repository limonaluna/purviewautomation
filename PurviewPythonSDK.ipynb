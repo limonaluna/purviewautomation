{
 "cells": [
  {
   "cell_type": "markdown",
   "metadata": {
    "application/vnd.databricks.v1+cell": {
     "cellMetadata": {},
     "inputWidgets": {},
     "nuid": "4d9d1f89-da98-4425-a3cc-e4c5865b9551",
     "showTitle": false,
     "title": ""
    }
   },
   "source": [
    "#Tutorial: Use the Microsoft Purview Python SDK\n",
    "This notebook is based on some parts of the Tutorial on Microsoft Learn\n",
    "Link: https://learn.microsoft.com/en-us/purview/tutorial-using-python-sdk\n",
    "\n",
    "However, it extends the tutorial by showcasing how to work with the query results in pyspark.\n",
    "\n",
    "## Intro\n",
    "\n",
    "This tutorial will introduce you to using the Microsoft Purview Python SDK. You can use the SDK to do all the most common Microsoft Purview operations programmatically, rather than through the Microsoft Purview governance portal.\n",
    "\n",
    "In this tutorial, you'll learn how to use the SDK to:\n",
    "\n",
    "- Grant the required rights to work programmatically with Microsoft Purview\n",
    "- Register a Blob Storage container as a data source in Microsoft Purview\n",
    "- Instantiate the Purview Clients in Python\n",
    "- Define and run a scan\n",
    "- Search the catalog\n",
    "- Delete a data source\n",
    "\n",
    "## Prerequisites\n",
    "For this tutorial, you'll need:\n",
    "\n",
    "- Python 3.6 or higher\n",
    "- An active Azure Subscription. If you don't have one, you can create one for free.\n",
    "- A Microsoft Entra tenant associated with your subscription.\n",
    "- An Azure Storage account. If you don't already have one, you can follow our quickstart guide to create one.\n",
    "- A Microsoft Purview account. If you don't already have one, you can follow our quickstart guide to create one.\n",
    "- A service principal with a client secret.\n",
    "\n"
   ]
  },
  {
   "cell_type": "markdown",
   "metadata": {
    "application/vnd.databricks.v1+cell": {
     "cellMetadata": {},
     "inputWidgets": {},
     "nuid": "7888aa63-be59-4b34-bd59-6940b2a72339",
     "showTitle": false,
     "title": ""
    }
   },
   "source": [
    "## Install Python Packages"
   ]
  },
  {
   "cell_type": "code",
   "execution_count": 0,
   "metadata": {
    "application/vnd.databricks.v1+cell": {
     "cellMetadata": {
      "byteLimit": 2048000,
      "rowLimit": 10000
     },
     "inputWidgets": {},
     "nuid": "380704ee-db5a-49c5-ac2b-4612944139b1",
     "showTitle": false,
     "title": ""
    }
   },
   "outputs": [],
   "source": [
    "pip install azure-identity"
   ]
  },
  {
   "cell_type": "code",
   "execution_count": 0,
   "metadata": {
    "application/vnd.databricks.v1+cell": {
     "cellMetadata": {
      "byteLimit": 2048000,
      "rowLimit": 10000
     },
     "inputWidgets": {},
     "nuid": "d08885be-d51c-42ee-a977-5953ab92c16b",
     "showTitle": false,
     "title": ""
    }
   },
   "outputs": [],
   "source": [
    "pip install azure-purview-scanning"
   ]
  },
  {
   "cell_type": "code",
   "execution_count": 0,
   "metadata": {
    "application/vnd.databricks.v1+cell": {
     "cellMetadata": {
      "byteLimit": 2048000,
      "rowLimit": 10000
     },
     "inputWidgets": {},
     "nuid": "b9edc2e2-c50e-4540-b238-ebb7c16a43ca",
     "showTitle": false,
     "title": ""
    }
   },
   "outputs": [],
   "source": [
    "pip install azure-purview-administration"
   ]
  },
  {
   "cell_type": "code",
   "execution_count": 0,
   "metadata": {
    "application/vnd.databricks.v1+cell": {
     "cellMetadata": {
      "byteLimit": 2048000,
      "rowLimit": 10000
     },
     "inputWidgets": {},
     "nuid": "3da5eeb2-8f13-46a2-8835-226a2c2b3988",
     "showTitle": false,
     "title": ""
    }
   },
   "outputs": [],
   "source": [
    "pip install azure-purview-catalog"
   ]
  },
  {
   "cell_type": "code",
   "execution_count": 0,
   "metadata": {
    "application/vnd.databricks.v1+cell": {
     "cellMetadata": {
      "byteLimit": 2048000,
      "rowLimit": 10000
     },
     "inputWidgets": {},
     "nuid": "6943f86b-9827-4614-9079-54e20979dcb0",
     "showTitle": false,
     "title": ""
    }
   },
   "outputs": [],
   "source": [
    "pip install azure-purview-account"
   ]
  },
  {
   "cell_type": "code",
   "execution_count": 0,
   "metadata": {
    "application/vnd.databricks.v1+cell": {
     "cellMetadata": {
      "byteLimit": 2048000,
      "rowLimit": 10000
     },
     "inputWidgets": {},
     "nuid": "2d427524-20a0-4662-8ecf-8654849c0c67",
     "showTitle": false,
     "title": ""
    }
   },
   "outputs": [],
   "source": [
    "pip install azure-core"
   ]
  },
  {
   "cell_type": "code",
   "execution_count": 0,
   "metadata": {
    "application/vnd.databricks.v1+cell": {
     "cellMetadata": {
      "byteLimit": 2048000,
      "rowLimit": 10000
     },
     "inputWidgets": {},
     "nuid": "a53b5326-fc4e-49b1-b781-bc23749b3840",
     "showTitle": false,
     "title": ""
    }
   },
   "outputs": [],
   "source": [
    "dbutils.library.restartPython()"
   ]
  },
  {
   "cell_type": "markdown",
   "metadata": {
    "application/vnd.databricks.v1+cell": {
     "cellMetadata": {},
     "inputWidgets": {},
     "nuid": "aef14ddb-9372-4e4e-96c1-9f29072fe42c",
     "showTitle": false,
     "title": ""
    }
   },
   "source": [
    "##Instantiate a Scanning, Catalog, and Administration client\n",
    "In this section, you learn how to instantiate:\n",
    "\n",
    "- A scanning client useful to registering data sources, creating and managing scan rules, triggering a scan, etc.\n",
    "- A catalog client useful to interact with the catalog through searching, browsing the discovered assets, identifying the sensitivity of your data, etc.\n",
    "- An administration client is useful for interacting with the Microsoft Purview Data Map itself, for operations like listing collections."
   ]
  },
  {
   "cell_type": "code",
   "execution_count": 0,
   "metadata": {
    "application/vnd.databricks.v1+cell": {
     "cellMetadata": {
      "byteLimit": 2048000,
      "rowLimit": 10000
     },
     "inputWidgets": {},
     "nuid": "d49b9a83-ecc8-4150-be16-fd451b999907",
     "showTitle": false,
     "title": ""
    }
   },
   "outputs": [],
   "source": [
    "from azure.purview.scanning import PurviewScanningClient\n",
    "from azure.purview.catalog import PurviewCatalogClient\n",
    "from azure.purview.administration.account import PurviewAccountClient\n",
    "from azure.identity import ClientSecretCredential \n",
    "from azure.core.exceptions import HttpResponseError\n",
    "import json\n"
   ]
  },
  {
   "cell_type": "code",
   "execution_count": 0,
   "metadata": {
    "application/vnd.databricks.v1+cell": {
     "cellMetadata": {
      "byteLimit": 2048000,
      "rowLimit": 10000
     },
     "inputWidgets": {},
     "nuid": "b411e61b-4090-4cbf-a3b2-c3f481397df3",
     "showTitle": false,
     "title": ""
    }
   },
   "outputs": [],
   "source": [
    "#Information of Service Principal\n",
    "client_id = \"client_id\" #applicationId\n",
    "client_secret = \"client_secret\"\n",
    "tenant_id = \"tenant_id\" #also called directoryId"
   ]
  },
  {
   "cell_type": "markdown",
   "metadata": {
    "application/vnd.databricks.v1+cell": {
     "cellMetadata": {
      "byteLimit": 2048000,
      "rowLimit": 10000
     },
     "inputWidgets": {},
     "nuid": "b87251a2-7778-4936-a0cd-086910ff8c99",
     "showTitle": false,
     "title": ""
    }
   },
   "source": [
    "### Different endpoints depending on Microsoft Purview Portal (new vs. classic)\n",
    "Your endpoint value will be different depending on which Microsoft Purview portal you are using. \n",
    "\n",
    "Endpoint for the classic Microsoft Purview governance portal: https://{your_purview_account_name}.purview.azure.com/ \n",
    "Endpoint for the New Microsoft Purview portal: https://api.purview-service.microsoft.com\n",
    "\n",
    "Scan endpoint for the classic Microsoft Purview governance portal: https://{your_purview_account_name}.scan.purview.azure.com/ \n",
    "Scan Endpoint for the New Microsoft Purview portal: https://api.scan.purview-service.microsoft.com"
   ]
  },
  {
   "cell_type": "code",
   "execution_count": 0,
   "metadata": {
    "application/vnd.databricks.v1+cell": {
     "cellMetadata": {
      "byteLimit": 2048000,
      "rowLimit": 10000
     },
     "inputWidgets": {},
     "nuid": "1dd862fb-5392-4b22-8c8a-86a53a40cb60",
     "showTitle": false,
     "title": ""
    }
   },
   "outputs": [],
   "source": [
    "purview_endpoint = \"purview_endpoint\"\n",
    "purview_scan_endpoint = \"purview_scan_endpoint\""
   ]
  },
  {
   "cell_type": "code",
   "execution_count": 0,
   "metadata": {
    "application/vnd.databricks.v1+cell": {
     "cellMetadata": {
      "byteLimit": 2048000,
      "rowLimit": 10000
     },
     "inputWidgets": {},
     "nuid": "640feb47-ca0d-4ed7-be74-446b55ebad44",
     "showTitle": false,
     "title": ""
    }
   },
   "outputs": [],
   "source": [
    "def get_credentials():\n",
    "    credentials = ClientSecretCredential(client_id=client_id, client_secret=client_secret, tenant_id=tenant_id)\n",
    "    return credentials\n",
    "\n",
    "def get_purview_client():\n",
    "    credentials = get_credentials()\n",
    "    client = PurviewScanningClient(endpoint=purview_scan_endpoint, credential=credentials, logging_enable=True)  \n",
    "    return client\n",
    "\n",
    "def get_catalog_client():\n",
    "    credentials = get_credentials()\n",
    "    client = PurviewCatalogClient(endpoint=purview_endpoint, credential=credentials, logging_enable=True)\n",
    "    return client\n",
    "\n",
    "def get_admin_client():\n",
    "    credentials = get_credentials()\n",
    "    client = PurviewAccountClient(endpoint=purview_endpoint, credential=credentials, logging_enable=True)\n",
    "    return client"
   ]
  },
  {
   "cell_type": "markdown",
   "metadata": {
    "application/vnd.databricks.v1+cell": {
     "cellMetadata": {},
     "inputWidgets": {},
     "nuid": "97f7ff95-2877-4f4a-83f0-5368a1a8a8e5",
     "showTitle": false,
     "title": ""
    }
   },
   "source": [
    "## Search the catalog for specific entries"
   ]
  },
  {
   "cell_type": "code",
   "execution_count": 0,
   "metadata": {
    "application/vnd.databricks.v1+cell": {
     "cellMetadata": {
      "byteLimit": 2048000,
      "rowLimit": 10000
     },
     "inputWidgets": {},
     "nuid": "e7b0a7b6-c09a-4395-b870-425bd9a60be1",
     "showTitle": false,
     "title": ""
    }
   },
   "outputs": [],
   "source": [
    "from azure.purview.catalog import PurviewCatalogClient\n",
    "from azure.identity import ClientSecretCredential \n",
    "from azure.core.exceptions import HttpResponseError"
   ]
  },
  {
   "cell_type": "code",
   "execution_count": 0,
   "metadata": {
    "application/vnd.databricks.v1+cell": {
     "cellMetadata": {
      "byteLimit": 2048000,
      "rowLimit": 10000
     },
     "inputWidgets": {},
     "nuid": "8ec58dd0-b6d0-4387-8129-91453d447434",
     "showTitle": false,
     "title": ""
    }
   },
   "outputs": [],
   "source": [
    "try:\n",
    "    client_catalog = get_catalog_client()\n",
    "except ValueError as e:\n",
    "    print(e)  "
   ]
  },
  {
   "cell_type": "markdown",
   "metadata": {
    "application/vnd.databricks.v1+cell": {
     "cellMetadata": {},
     "inputWidgets": {},
     "nuid": "58877ccc-c95c-43c3-b918-f19ee7fa917d",
     "showTitle": false,
     "title": ""
    }
   },
   "source": [
    "Search for keyword \"*\" in the whole catalog to get all assets that are scanned"
   ]
  },
  {
   "cell_type": "code",
   "execution_count": 0,
   "metadata": {
    "application/vnd.databricks.v1+cell": {
     "cellMetadata": {
      "byteLimit": 2048000,
      "rowLimit": 10000
     },
     "inputWidgets": {},
     "nuid": "3b9cd2ad-7000-4619-aa14-c957cbed7c68",
     "showTitle": false,
     "title": ""
    }
   },
   "outputs": [],
   "source": [
    "keywords = \"*\"\n",
    "\n",
    "body_input={\n",
    "    \"keywords\": keywords\n",
    "}"
   ]
  },
  {
   "cell_type": "markdown",
   "metadata": {
    "application/vnd.databricks.v1+cell": {
     "cellMetadata": {},
     "inputWidgets": {},
     "nuid": "92f1cfbc-3db2-45c6-a625-0b9319dce700",
     "showTitle": false,
     "title": ""
    }
   },
   "source": [
    "Example for more advanced filtering\n",
    "\n",
    "```\n",
    "classifications = \"MICROSOFT.PERSONAL.NAME\"\n",
    "collectionId1 = \"gl7byr\" #can be retrieved with another python call\n",
    "collectionId2 = \"ehmcsl\"\n",
    "\n",
    "body_input={\n",
    "    \"keywords\": keywords,\n",
    "    \"filter\": {\n",
    "        \"classification\": classifications,\n",
    "        \"collectionId\": collectionId1\n",
    "    }\n",
    "}\n",
    "```"
   ]
  },
  {
   "cell_type": "code",
   "execution_count": 0,
   "metadata": {
    "application/vnd.databricks.v1+cell": {
     "cellMetadata": {
      "byteLimit": 2048000,
      "rowLimit": 10000
     },
     "inputWidgets": {},
     "nuid": "1157ed12-d25a-451d-b748-eb06c171fdad",
     "showTitle": false,
     "title": ""
    }
   },
   "outputs": [],
   "source": [
    "try:\n",
    "    response = client_catalog.discovery.query(search_request=body_input)\n",
    "    # Format the response for better readability\n",
    "    formatted_response = json.dumps(response, indent=4)\n",
    "    \n",
    "    # Print the formatted response\n",
    "    print(formatted_response)\n",
    "except HttpResponseError as e:\n",
    "    print(e)"
   ]
  },
  {
   "cell_type": "markdown",
   "metadata": {
    "application/vnd.databricks.v1+cell": {
     "cellMetadata": {},
     "inputWidgets": {},
     "nuid": "0db58410-1837-4668-95dc-e2f76a32c67f",
     "showTitle": false,
     "title": ""
    }
   },
   "source": [
    "#Work with the Query Results in Pyspark"
   ]
  },
  {
   "cell_type": "code",
   "execution_count": 0,
   "metadata": {
    "application/vnd.databricks.v1+cell": {
     "cellMetadata": {
      "byteLimit": 2048000,
      "rowLimit": 10000
     },
     "inputWidgets": {},
     "nuid": "3d9f20fc-fb5b-4fbe-afba-3f17c143ac7e",
     "showTitle": false,
     "title": ""
    }
   },
   "outputs": [],
   "source": [
    "# Importing pyspark library\n",
    "import pyspark\n",
    "from pyspark.sql.functions import *"
   ]
  },
  {
   "cell_type": "code",
   "execution_count": 0,
   "metadata": {
    "application/vnd.databricks.v1+cell": {
     "cellMetadata": {
      "byteLimit": 2048000,
      "rowLimit": 10000
     },
     "inputWidgets": {},
     "nuid": "4a453be6-a239-427d-ab93-eb23f3b938f1",
     "showTitle": false,
     "title": ""
    }
   },
   "outputs": [],
   "source": [
    "# Convert the query result to a Spark DataFrame\n",
    "df = spark.read.json(sc.parallelize([formatted_response]))\n",
    "\n",
    "# Explode the nested entries to create one row per entry\n",
    "df_explode = df.select(explode_outer('value').alias('values'))\n",
    "\n",
    "# Display the resulting DataFrame\n",
    "df_explode.head()\n"
   ]
  },
  {
   "cell_type": "code",
   "execution_count": 0,
   "metadata": {
    "application/vnd.databricks.v1+cell": {
     "cellMetadata": {
      "byteLimit": 2048000,
      "rowLimit": 10000
     },
     "inputWidgets": {},
     "nuid": "1abfb3d9-a733-4455-8a3b-c5f26adb944d",
     "showTitle": false,
     "title": ""
    }
   },
   "outputs": [],
   "source": [
    "#create new dataframe with separate columns\n",
    "df_withColumn = df_explode.withColumn('assetType', col('values.assetType')) \\\n",
    "    .withColumn('classification', when(col('values.classification').isNull(), None).otherwise(col('values.classification'))) \\\n",
    "    .withColumn('collectionId', col('values.collectionId')) \\\n",
    "    .withColumn('createBy', col('values.createBy')) \\\n",
    "    .withColumn('createTime', col('values.createTime')) \\\n",
    "    .withColumn('displayText', col('values.displayText')) \\\n",
    "    .withColumn('entityType', col('values.entityType')) \\\n",
    "    .withColumn('id', col('values.id')) \\\n",
    "    .withColumn('isIndexed', col('values.isIndexed')) \\\n",
    "    .withColumn('name', col('values.name')) \\\n",
    "    .withColumn('objectType', col('values.objectType')) \\\n",
    "    .withColumn('qualifiedName', col('values.qualifiedName')) \\\n",
    "    .withColumn('updateBy', col('values.updateBy')) \\\n",
    "    .withColumn('updateTime', col('values.updateTime')) \\\n",
    "    .withColumn('owner', when(col('values.owner').isNull(), None).otherwise(col('values.owner'))) \n",
    "\n",
    "df_withColumn.display()"
   ]
  },
  {
   "cell_type": "code",
   "execution_count": 0,
   "metadata": {
    "application/vnd.databricks.v1+cell": {
     "cellMetadata": {
      "byteLimit": 2048000,
      "rowLimit": 10000
     },
     "inputWidgets": {},
     "nuid": "7ce863b1-cbea-4781-a09a-bc79cb67d3a2",
     "showTitle": false,
     "title": ""
    }
   },
   "outputs": [],
   "source": [
    "#filter based on a classficationFilter\n",
    "highlyConfidentialClassification = \"HighlyConfidential\" #will be used later to filter --> this is a custom classification that I created and added to an asset\n",
    "classificationFilter = \"MICROSOFT.PERSONAL.NAME\"\n",
    "\n",
    "df_classificationFilter = df_withColumn.filter(array_contains(df_withColumn.classification, classificationFilter))\n",
    "df_classificationFilter.display()"
   ]
  },
  {
   "cell_type": "code",
   "execution_count": 0,
   "metadata": {
    "application/vnd.databricks.v1+cell": {
     "cellMetadata": {
      "byteLimit": 2048000,
      "rowLimit": 10000
     },
     "inputWidgets": {},
     "nuid": "87debf62-fcfc-4606-bf50-23a41705feda",
     "showTitle": false,
     "title": ""
    }
   },
   "outputs": [],
   "source": [
    "df_classificationFilter.select('qualifiedName').display()"
   ]
  },
  {
   "cell_type": "markdown",
   "metadata": {
    "application/vnd.databricks.v1+cell": {
     "cellMetadata": {},
     "inputWidgets": {},
     "nuid": "979c83b9-80cd-4cce-b218-f4be58acce7b",
     "showTitle": false,
     "title": ""
    }
   },
   "source": [
    "#Other operations"
   ]
  },
  {
   "cell_type": "markdown",
   "metadata": {
    "application/vnd.databricks.v1+cell": {
     "cellMetadata": {},
     "inputWidgets": {},
     "nuid": "c1e0ee06-e321-43df-a760-38ec0d46bb1d",
     "showTitle": false,
     "title": ""
    }
   },
   "source": [
    "## Get information of one entitiy by GUID"
   ]
  },
  {
   "cell_type": "code",
   "execution_count": 0,
   "metadata": {
    "application/vnd.databricks.v1+cell": {
     "cellMetadata": {
      "byteLimit": 2048000,
      "rowLimit": 10000
     },
     "inputWidgets": {},
     "nuid": "3ba79732-a66d-4f99-ba7e-392c7cd9c2b4",
     "showTitle": false,
     "title": ""
    }
   },
   "outputs": [],
   "source": [
    "#get guid of one asset\n",
    "guid = df_classificationFilter.select('id').collect()[0][0]\n",
    "guid = str(guid)"
   ]
  },
  {
   "cell_type": "code",
   "execution_count": 0,
   "metadata": {
    "application/vnd.databricks.v1+cell": {
     "cellMetadata": {
      "byteLimit": 2048000,
      "rowLimit": 10000
     },
     "inputWidgets": {},
     "nuid": "e66a6e22-aaa9-45f2-a7e7-b13ec6c6df40",
     "showTitle": false,
     "title": ""
    }
   },
   "outputs": [],
   "source": [
    "\n",
    "try:\n",
    "    response = client_catalog.entity.get_by_guid(guid)\n",
    "    # Format the response for better readability\n",
    "    formatted_response = json.dumps(response, indent=4)\n",
    "    \n",
    "    # Print the formatted response\n",
    "    print(formatted_response)\n",
    "\n",
    "except HttpResponseError as e:\n",
    "    print(e)"
   ]
  },
  {
   "cell_type": "markdown",
   "metadata": {
    "application/vnd.databricks.v1+cell": {
     "cellMetadata": {},
     "inputWidgets": {},
     "nuid": "df22dc97-dfc8-48ba-a55f-75e310106577",
     "showTitle": false,
     "title": ""
    }
   },
   "source": [
    "## Get Classifications by GUID"
   ]
  },
  {
   "cell_type": "code",
   "execution_count": 0,
   "metadata": {
    "application/vnd.databricks.v1+cell": {
     "cellMetadata": {
      "byteLimit": 2048000,
      "rowLimit": 10000
     },
     "inputWidgets": {},
     "nuid": "351ac3ca-4007-4039-960e-645f2d939186",
     "showTitle": false,
     "title": ""
    }
   },
   "outputs": [],
   "source": [
    "try:\n",
    "    response = client_catalog.entity.get_classifications(guid)\n",
    "    \n",
    "    # Format the response for better readability\n",
    "    formatted_response = json.dumps(response, indent=4)\n",
    "    \n",
    "    # Print the formatted response\n",
    "    print(formatted_response)\n",
    "\n",
    "except HttpResponseError as e:\n",
    "    print(e)"
   ]
  },
  {
   "cell_type": "code",
   "execution_count": 0,
   "metadata": {
    "application/vnd.databricks.v1+cell": {
     "cellMetadata": {},
     "inputWidgets": {},
     "nuid": "058e7ecb-6ec9-4212-8ca0-1062458ea677",
     "showTitle": false,
     "title": ""
    }
   },
   "outputs": [],
   "source": []
  }
 ],
 "metadata": {
  "application/vnd.databricks.v1+notebook": {
   "dashboards": [],
   "language": "python",
   "notebookMetadata": {
    "pythonIndentUnit": 4
   },
   "notebookName": "PurviewSDKGithub",
   "widgets": {}
  }
 },
 "nbformat": 4,
 "nbformat_minor": 0
}
